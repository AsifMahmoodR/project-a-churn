{
 "cells": [
  {
   "cell_type": "markdown",
   "id": "2d31a82a",
   "metadata": {},
   "source": [
    "# Project A — Churn Prediction — EDA"
   ]
  },
  {
   "cell_type": "code",
   "execution_count": null,
   "id": "5eecd120",
   "metadata": {},
   "outputs": [],
   "source": [
    "import pandas as pd\n",
    "df = pd.read_csv(\"../data/raw.csv\")\n",
    "df.shape, df.head()"
   ]
  },
  {
   "cell_type": "code",
   "execution_count": null,
   "id": "3b8e2f2b",
   "metadata": {},
   "outputs": [],
   "source": [
    "# quick info\n",
    "df.info()"
   ]
  },
  {
   "cell_type": "code",
   "execution_count": null,
   "id": "c23224ce",
   "metadata": {},
   "outputs": [],
   "source": [
    "# describe\n",
    "df.describe(include='all').T"
   ]
  },
  {
   "cell_type": "code",
   "execution_count": null,
   "id": "e269a3c6",
   "metadata": {},
   "outputs": [],
   "source": [
    "# missingness\n",
    "df.isnull().sum().sort_values(ascending=False).head(20)"
   ]
  },
  {
   "cell_type": "code",
   "execution_count": null,
   "id": "31ac5c27",
   "metadata": {},
   "outputs": [],
   "source": [
    "import seaborn as sns\n",
    "import matplotlib.pyplot as plt\n",
    "num = df.select_dtypes(['int64','float64'])\n",
    "sns.histplot(num.iloc[:,0].dropna())\n",
    "plt.show()"
   ]
  }
 ],
 "metadata": {
  "kernelspec": {
   "display_name": ".venv",
   "language": "python",
   "name": "python3"
  },
  "language_info": {
   "codemirror_mode": {
    "name": "ipython",
    "version": 3
   },
   "file_extension": ".py",
   "mimetype": "text/x-python",
   "name": "python",
   "nbconvert_exporter": "python",
   "pygments_lexer": "ipython3",
   "version": "3.12.3"
  }
 },
 "nbformat": 4,
 "nbformat_minor": 5
}
